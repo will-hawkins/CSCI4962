{
 "cells": [
  {
   "cell_type": "code",
   "execution_count": 32,
   "id": "57980de6",
   "metadata": {},
   "outputs": [],
   "source": [
    "import numpy as np\n",
    "import pandas as pd\n",
    "\n",
    "from sklearn import preprocessing, model_selection, metrics\n",
    "from sklearn import tree as Tree\n",
    "\n",
    "\n",
    "import matplotlib.pyplot as plt\n",
    "from tqdm.notebook import tqdm"
   ]
  },
  {
   "cell_type": "code",
   "execution_count": 252,
   "id": "80eb6226",
   "metadata": {},
   "outputs": [
    {
     "name": "stderr",
     "output_type": "stream",
     "text": [
      "<ipython-input-252-d8f794234f32>:21: SettingWithCopyWarning: \n",
      "A value is trying to be set on a copy of a slice from a DataFrame.\n",
      "Try using .loc[row_indexer,col_indexer] = value instead\n",
      "\n",
      "See the caveats in the documentation: https://pandas.pydata.org/pandas-docs/stable/user_guide/indexing.html#returning-a-view-versus-a-copy\n",
      "  features['bias'] = 1\n"
     ]
    }
   ],
   "source": [
    "data = pd.read_csv(\"citi_field.csv\")\n",
    "\n",
    "#Keep only necessary attributes\n",
    "data = data[['events','description','type','outs_when_up',\n",
    "      'hc_x','hc_y','hit_distance_sc','launch_speed','launch_angle','p_throws', 'pfx_x',\n",
    "        'pfx_z', 'plate_x', 'plate_z',\n",
    "      'estimated_ba_using_speedangle','release_pos_z','release_pos_x']]\n",
    "#Drop instances where ball wasn't hit into play\n",
    "data = data[data['description']=='hit_into_play']\n",
    "\n",
    "hits = ['single','double','triple','home_run']\n",
    "#data = data[data['events'].isin(hits)]\n",
    "\n",
    "data.loc[:,'y'] = data['events'].isin(hits)\n",
    "\n",
    "feats = ['launch_speed','launch_angle', 'hit_distance_sc']\n",
    "features = data[feats]\n",
    "\n",
    "data = data[~features.isna().any(axis=1)]\n",
    "features = data[feats]\n",
    "features['bias'] = 1\n",
    "features = features[['launch_speed','launch_angle']]\n",
    "features['launch_angle'] = features['launch_angle']**2\n",
    "\n",
    "X_data = np.matrix(features.to_numpy())\n",
    "\n",
    "y=np.matrix(np.where(data['y'],1,0)).T"
   ]
  },
  {
   "cell_type": "code",
   "execution_count": 253,
   "id": "15530f64",
   "metadata": {},
   "outputs": [],
   "source": [
    "x_train, x_test, y_train,y_test = model_selection.train_test_split(X_data, y)\n",
    "\n",
    "scaler = preprocessing.MinMaxScaler(feature_range=(-1,1))\n",
    "\n",
    "x_train = scaler.fit_transform(x_train)\n",
    "x_test = scaler.transform(x_test)"
   ]
  },
  {
   "cell_type": "markdown",
   "id": "434cb8a9",
   "metadata": {},
   "source": [
    "## Task 1"
   ]
  },
  {
   "cell_type": "code",
   "execution_count": 343,
   "id": "c5e4c67e",
   "metadata": {},
   "outputs": [],
   "source": [
    "tree = Tree.DecisionTreeClassifier()\n",
    "tree = tree.fit(x_train, y_train)\n",
    "yhat = tree.predict(x_test)\n",
    "cm = metrics.confusion_matrix(y_test, yhat)\n",
    "stats = metrics.recall_score(y_test, yhat), metrics.accuracy_score(y_test, yhat), metrics.precision_score(y_test, yhat)"
   ]
  },
  {
   "cell_type": "code",
   "execution_count": 345,
   "id": "94876c56",
   "metadata": {},
   "outputs": [
    {
     "data": {
      "text/plain": [
       "(array([[228,  60],\n",
       "        [ 70,  55]], dtype=int64),\n",
       " (0.44, 0.6852300242130751, 0.4782608695652174),\n",
       " array([[840,  18],\n",
       "        [  0, 379]], dtype=int64))"
      ]
     },
     "execution_count": 345,
     "metadata": {},
     "output_type": "execute_result"
    }
   ],
   "source": [
    "cm, stats, metrics.confusion_matrix(tree.predict(x_train),y_train)"
   ]
  },
  {
   "cell_type": "markdown",
   "id": "69c1e68a",
   "metadata": {},
   "source": [
    "The model is performing very well on the training data and poorly on the test data. It appears we are overfitting the data."
   ]
  },
  {
   "cell_type": "code",
   "execution_count": 346,
   "id": "7225d46d",
   "metadata": {},
   "outputs": [],
   "source": [
    "tree2 = Tree.DecisionTreeClassifier(splitter='random')\n",
    "tree2 = tree2.fit(x_train, y_train)\n",
    "yhat = tree2.predict(x_test)\n",
    "cm2 = metrics.confusion_matrix(y_test, yhat)\n",
    "stats2 = metrics.recall_score(y_test, yhat), metrics.accuracy_score(y_test, yhat), metrics.precision_score(y_test, yhat)"
   ]
  },
  {
   "cell_type": "code",
   "execution_count": 347,
   "id": "b4e781b2",
   "metadata": {},
   "outputs": [
    {
     "data": {
      "text/plain": [
       "(array([[232,  56],\n",
       "        [ 58,  67]], dtype=int64),\n",
       " (0.536, 0.7239709443099274, 0.5447154471544715),\n",
       " array([[840,  18],\n",
       "        [  0, 379]], dtype=int64))"
      ]
     },
     "execution_count": 347,
     "metadata": {},
     "output_type": "execute_result"
    }
   ],
   "source": [
    "cm2, stats2, metrics.confusion_matrix(tree2.predict(x_train),y_train)"
   ]
  },
  {
   "cell_type": "code",
   "execution_count": 334,
   "id": "eabb7bec",
   "metadata": {},
   "outputs": [],
   "source": [
    "tree3 = Tree.DecisionTreeClassifier(min_samples_leaf=3, max_depth=6, class_weight='balanced')\n",
    "tree3 = tree3.fit(x_train, y_train)\n",
    "yhat = tree3.predict(x_test)\n",
    "cm3 = metrics.confusion_matrix(y_test, yhat)\n",
    "stats3 = metrics.recall_score(y_test, yhat), metrics.accuracy_score(y_test, yhat), metrics.precision_score(y_test, yhat)"
   ]
  },
  {
   "cell_type": "code",
   "execution_count": 335,
   "id": "97e1e58b",
   "metadata": {},
   "outputs": [
    {
     "data": {
      "text/plain": [
       "(array([[197,  91],\n",
       "        [ 28,  97]], dtype=int64),\n",
       " (0.776, 0.711864406779661, 0.5159574468085106))"
      ]
     },
     "execution_count": 335,
     "metadata": {},
     "output_type": "execute_result"
    }
   ],
   "source": [
    "cm3, stats3"
   ]
  },
  {
   "cell_type": "code",
   "execution_count": 339,
   "id": "2786d33f",
   "metadata": {},
   "outputs": [],
   "source": [
    "y = tree3.predict(x_train)"
   ]
  },
  {
   "cell_type": "code",
   "execution_count": 340,
   "id": "3a13a2c1",
   "metadata": {},
   "outputs": [
    {
     "data": {
      "text/plain": [
       "array([[578, 262],\n",
       "       [ 72, 325]], dtype=int64)"
      ]
     },
     "execution_count": 340,
     "metadata": {},
     "output_type": "execute_result"
    }
   ],
   "source": [
    "metrics.confusion_matrix(y_train,y)"
   ]
  },
  {
   "cell_type": "markdown",
   "id": "78892fd4",
   "metadata": {},
   "source": [
    "## Bagging"
   ]
  },
  {
   "cell_type": "code",
   "execution_count": null,
   "id": "5a33023d",
   "metadata": {},
   "outputs": [],
   "source": [
    "models = []\n",
    "for i in range(10):\n",
    "    x_train, x_test, y_train,y_test = model_selection.train_test_split(X_data, y)\n",
    "    scaler = preprocessing.MinMaxScaler(feature_range=(-1,1))\n",
    "    x_train = scaler.fit_transform(x_train)\n",
    "    x_test = scaler.transform(x_test)\n",
    "    \n",
    "    "
   ]
  },
  {
   "cell_type": "code",
   "execution_count": 349,
   "id": "0460bc63",
   "metadata": {},
   "outputs": [],
   "source": [
    "from sklearn.ensemble import BaggingClassifier\n",
    "from sklearn.model_selection import cross_val_score, RepeatedStratifiedKFold"
   ]
  },
  {
   "cell_type": "code",
   "execution_count": 352,
   "id": "ddd2e98c",
   "metadata": {},
   "outputs": [
    {
     "name": "stderr",
     "output_type": "stream",
     "text": [
      "C:\\Users\\William\\anaconda3\\lib\\site-packages\\sklearn\\utils\\validation.py:63: DataConversionWarning: A column-vector y was passed when a 1d array was expected. Please change the shape of y to (n_samples, ), for example using ravel().\n",
      "  return f(*args, **kwargs)\n"
     ]
    },
    {
     "data": {
      "text/plain": [
       "BaggingClassifier(base_estimator=DecisionTreeClassifier(class_weight='balanced',\n",
       "                                                        max_depth=6,\n",
       "                                                        min_samples_leaf=3))"
      ]
     },
     "execution_count": 352,
     "metadata": {},
     "output_type": "execute_result"
    }
   ],
   "source": [
    "cv = RepeatedStratifiedKFold(n_splits=10)\n",
    "bag = BaggingClassifier(base_estimator=tree3, n_estimators=10)\n",
    "bag.fit(x_train, y_train)"
   ]
  },
  {
   "cell_type": "code",
   "execution_count": 342,
   "id": "cf8d20ab",
   "metadata": {},
   "outputs": [
    {
     "name": "stderr",
     "output_type": "stream",
     "text": [
      "C:\\Users\\William\\anaconda3\\lib\\site-packages\\sklearn\\utils\\validation.py:63: DataConversionWarning: A column-vector y was passed when a 1d array was expected. Please change the shape of y to (n_samples, ), for example using ravel().\n",
      "  return f(*args, **kwargs)\n"
     ]
    },
    {
     "data": {
      "text/plain": [
       "BaggingClassifier(base_estimator=DecisionTreeClassifier(class_weight='balanced',\n",
       "                                                        max_depth=6,\n",
       "                                                        min_samples_leaf=3))"
      ]
     },
     "execution_count": 342,
     "metadata": {},
     "output_type": "execute_result"
    }
   ],
   "source": []
  },
  {
   "cell_type": "code",
   "execution_count": null,
   "id": "31b42118",
   "metadata": {},
   "outputs": [],
   "source": []
  }
 ],
 "metadata": {
  "kernelspec": {
   "display_name": "Python 3",
   "language": "python",
   "name": "python3"
  },
  "language_info": {
   "codemirror_mode": {
    "name": "ipython",
    "version": 3
   },
   "file_extension": ".py",
   "mimetype": "text/x-python",
   "name": "python",
   "nbconvert_exporter": "python",
   "pygments_lexer": "ipython3",
   "version": "3.8.8"
  }
 },
 "nbformat": 4,
 "nbformat_minor": 5
}
