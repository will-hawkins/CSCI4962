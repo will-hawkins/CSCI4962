{
 "cells": [
  {
   "cell_type": "code",
   "execution_count": 235,
   "id": "5f37384e",
   "metadata": {},
   "outputs": [],
   "source": [
    "def graphBoundary(X,y, w, phi=None, xlim=(-1,1),ylim=(-1,1),b=100,ax=None,space=None):\n",
    "    if ax is None:\n",
    "        fig, ax = plt.subplots()\n",
    "    #Generate Background points for coloring the boundary\n",
    "    p = np.linspace(xlim[0],xlim[1],b)\n",
    "    A = []\n",
    "    for i in p:\n",
    "        for j in p:\n",
    "            A.append([i,j])\n",
    "    background_points = np.matrix(np.insert(np.matrix(A),0,1,axis=1))\n",
    "    print(background_points.shape)\n",
    "    if phi is not None:\n",
    "        yhat = phi(background_points)*w\n",
    "    else:\n",
    "        yhat = background_points*w\n",
    "    \n",
    "    blux, bluy, redx,redy = [],[],[],[]\n",
    "    \n",
    "    #classify background points\n",
    "    \n",
    "    for p in range(len(background_points)):\n",
    "        h = yhat[p,0]\n",
    "        i = background_points[p,1]\n",
    "        j = background_points[p,2]\n",
    "        \n",
    "        if h > 0:\n",
    "            blux.append(i)\n",
    "            bluy.append(j)\n",
    "        else:\n",
    "            redx.append(i)\n",
    "            redy.append(j)\n",
    "            \n",
    "            \n",
    "    #plot boundary\n",
    "    ax.scatter(blux,bluy,marker='s',color='#4a9df2')               \n",
    "    ax.scatter(redx,redy,marker='s',color='#f68f9e') \n",
    "    \n",
    "    blux, bluy, redx,redy = [],[],[],[]\n",
    "    \n",
    "    #Plot Data Points\n",
    "    N = len(X)\n",
    "    for i in range(N):\n",
    "        if y[i,0] > 0:\n",
    "            blux.append(X[i,1])\n",
    "            bluy.append(X[i,2])\n",
    "            \n",
    "        else:\n",
    "            redx.append(X[i,1])\n",
    "            redy.append(X[i,2])\n",
    "            \n",
    "    ax.scatter(blux,bluy,marker=\"o\",s=75,\n",
    "                     edgecolor=\"black\",color='blue')\n",
    "    ax.scatter(redx,redy,marker=\"o\",s=75,\n",
    "                     edgecolor=\"black\",color='red')\n",
    "    \n",
    "    ax.axis('scaled')\n",
    "    \n",
    "    #return fig"
   ]
  },
  {
   "cell_type": "code",
   "execution_count": 18,
   "id": "fd06c5a1",
   "metadata": {},
   "outputs": [],
   "source": [
    "def graph(X,y,w):\n",
    "    N = len(X)\n",
    "    for i in range(N):\n",
    "        if y[i] > 0:\n",
    "            plt.plot(X[i,1],X[i,2],marker=\"o\",markersize=10,\n",
    "                     markeredgecolor=\"black\",markerfacecolor='blue')\n",
    "        else:\n",
    "            plt.plot(X[i,1],X[i,2],marker=\"o\",markersize=10,\n",
    "                     markeredgecolor=\"black\",markerfacecolor='red')\n",
    "\n",
    "\n",
    "            \n",
    "    plt.show()"
   ]
  },
  {
   "cell_type": "markdown",
   "id": "671fa09e",
   "metadata": {},
   "source": [
    "# Homework 1"
   ]
  },
  {
   "cell_type": "code",
   "execution_count": 1,
   "id": "f6e03340",
   "metadata": {},
   "outputs": [],
   "source": [
    "import numpy as np\n",
    "import pandas as pd\n",
    "\n",
    "from sklearn import preprocessing, model_selection, metrics\n",
    "\n",
    "import matplotlib.pyplot as plt\n",
    "from tqdm.notebook import tqdm"
   ]
  },
  {
   "cell_type": "markdown",
   "id": "e24d320b",
   "metadata": {},
   "source": [
    "## Task 1: \n",
    "<u> Describe a machine learning problem that you would like to solve using Logistic Regression. Clearly state why Logistic regression is the best choice for solving this problem. </u>\n",
    "    \n",
    "Hit Probability. Hit Probability (HP) referes to the chance the a ball put in play results in a hit. This is a binary classification task, when the ball is hit there are two possible outcomes: hit or not a hit (out/error/fielders choice). We will ignore foul balls, unless they are caught for an out. Logistic regression intuitively seems like a good choice for solving the problem because it is a binary classification task, and there is a linear relationship between velocity, location, and likelihood of a hit."
   ]
  },
  {
   "cell_type": "markdown",
   "id": "84790fe4",
   "metadata": {},
   "source": [
    "## Task 2"
   ]
  },
  {
   "cell_type": "code",
   "execution_count": 276,
   "id": "5dc4b03d",
   "metadata": {},
   "outputs": [],
   "source": [
    "data = pd.read_csv(\"citi_field.csv\")"
   ]
  },
  {
   "cell_type": "code",
   "execution_count": 277,
   "id": "fd82e9a1",
   "metadata": {},
   "outputs": [],
   "source": [
    "#Keep only necessary attributes\n",
    "data = data[['events','description','type','outs_when_up',\n",
    "      'hc_x','hc_y','hit_distance_sc','launch_speed','launch_angle',\n",
    "      'estimated_ba_using_speedangle','estimated_woba_using_speedangle','woba_value']]\n",
    "#Drop instances where ball wasn't hit into play\n",
    "data = data[data['events'].isin(['home_run','single'])]"
   ]
  },
  {
   "cell_type": "code",
   "execution_count": 278,
   "id": "2da3291d",
   "metadata": {},
   "outputs": [],
   "source": [
    "hits = ['home_run']\n",
    "outs = ['field_out']"
   ]
  },
  {
   "cell_type": "code",
   "execution_count": 279,
   "id": "bd7a070f",
   "metadata": {},
   "outputs": [],
   "source": [
    "data.loc[:,'y'] = data['events'].isin(hits)"
   ]
  },
  {
   "cell_type": "code",
   "execution_count": 280,
   "id": "d5d90435",
   "metadata": {
    "scrolled": false
   },
   "outputs": [
    {
     "name": "stderr",
     "output_type": "stream",
     "text": [
      "<ipython-input-280-977fcffadc8f>:5: SettingWithCopyWarning: \n",
      "A value is trying to be set on a copy of a slice from a DataFrame.\n",
      "Try using .loc[row_indexer,col_indexer] = value instead\n",
      "\n",
      "See the caveats in the documentation: https://pandas.pydata.org/pandas-docs/stable/user_guide/indexing.html#returning-a-view-versus-a-copy\n",
      "  features['bias'] = 1\n"
     ]
    }
   ],
   "source": [
    "features = data[['launch_speed','launch_angle']]\n",
    "\n",
    "data = data[~features.isna().any(axis=1)]\n",
    "features = data[['launch_speed','launch_angle']]\n",
    "features['bias'] = 1\n",
    "features = features[['launch_speed','launch_angle']]\n",
    "features['launch_angle'] = features['launch_angle']**2"
   ]
  },
  {
   "cell_type": "code",
   "execution_count": 281,
   "id": "10b391b8",
   "metadata": {},
   "outputs": [],
   "source": [
    "X_data = np.matrix(features.to_numpy())"
   ]
  },
  {
   "cell_type": "code",
   "execution_count": 282,
   "id": "c30171fe",
   "metadata": {},
   "outputs": [],
   "source": [
    "y=np.matrix(np.where(data['y'],-1,1)).T"
   ]
  },
  {
   "cell_type": "code",
   "execution_count": 283,
   "id": "4c6ed5c5",
   "metadata": {},
   "outputs": [
    {
     "data": {
      "text/plain": [
       "((416, 2), (416, 1))"
      ]
     },
     "execution_count": 283,
     "metadata": {},
     "output_type": "execute_result"
    }
   ],
   "source": [
    "X_data.shape, y.shape"
   ]
  },
  {
   "cell_type": "code",
   "execution_count": 284,
   "id": "5a9aeb0b",
   "metadata": {},
   "outputs": [],
   "source": [
    "x_train, x_test, y_train,y_test = model_selection.train_test_split(X_data, y)"
   ]
  },
  {
   "cell_type": "code",
   "execution_count": 285,
   "id": "e7e445a5",
   "metadata": {},
   "outputs": [],
   "source": [
    "scaler = preprocessing.MinMaxScaler(feature_range=(-1,1))"
   ]
  },
  {
   "cell_type": "code",
   "execution_count": 286,
   "id": "de69eef0",
   "metadata": {},
   "outputs": [
    {
     "name": "stderr",
     "output_type": "stream",
     "text": [
      "C:\\Users\\William\\AppData\\Roaming\\Python\\Python38\\site-packages\\sklearn\\utils\\validation.py:727: FutureWarning: np.matrix usage is deprecated in 1.0 and will raise a TypeError in 1.2. Please convert to a numpy array with np.asarray. For more information see: https://numpy.org/doc/stable/reference/generated/numpy.matrix.html\n",
      "  warnings.warn(\n",
      "C:\\Users\\William\\AppData\\Roaming\\Python\\Python38\\site-packages\\sklearn\\utils\\validation.py:727: FutureWarning: np.matrix usage is deprecated in 1.0 and will raise a TypeError in 1.2. Please convert to a numpy array with np.asarray. For more information see: https://numpy.org/doc/stable/reference/generated/numpy.matrix.html\n",
      "  warnings.warn(\n",
      "C:\\Users\\William\\AppData\\Roaming\\Python\\Python38\\site-packages\\sklearn\\utils\\validation.py:727: FutureWarning: np.matrix usage is deprecated in 1.0 and will raise a TypeError in 1.2. Please convert to a numpy array with np.asarray. For more information see: https://numpy.org/doc/stable/reference/generated/numpy.matrix.html\n",
      "  warnings.warn(\n"
     ]
    }
   ],
   "source": [
    "x_train = scaler.fit_transform(x_train)\n",
    "x_test = scaler.transform(x_test)"
   ]
  },
  {
   "cell_type": "code",
   "execution_count": 287,
   "id": "4d0100d1",
   "metadata": {},
   "outputs": [],
   "source": [
    "x_train = np.matrix(np.insert(x_train,0,1,axis=1))\n",
    "x_test  = np.matrix(np.insert(x_test,0,1,axis=1))"
   ]
  },
  {
   "cell_type": "markdown",
   "id": "173f9b09",
   "metadata": {},
   "source": [
    "## Task 3"
   ]
  },
  {
   "cell_type": "code",
   "execution_count": 246,
   "id": "a178b75e",
   "metadata": {},
   "outputs": [],
   "source": [
    "def predict(x, w):\n",
    "    return x@w\n",
    "def classify(x,w):\n",
    "    yhat = x@w\n",
    "    return np.matrix(np.where(yhat > .5, 1, -1 ))"
   ]
  },
  {
   "cell_type": "markdown",
   "id": "d61abcd9",
   "metadata": {},
   "source": [
    "Cost of weights $w$ at point $n$: $ln(1+e^{-y_nw^Tx_n})$"
   ]
  },
  {
   "cell_type": "code",
   "execution_count": 19,
   "id": "d1300ff5",
   "metadata": {},
   "outputs": [],
   "source": [
    "def gradient(x,y,wt):\n",
    "    N = len(x)\n",
    "    d = len(wt)\n",
    "    total = np.matrix(np.zeros(d))\n",
    "    for n in range(0,N):\n",
    "        #yn = y[n]\n",
    "        num = (y[n]*x[n]) #1*d\n",
    "        exp = (y[n]*wt.T*x[n].T)[0,0]\n",
    "        denom = (1+ np.math.e**exp )\n",
    "        div = num/denom\n",
    "        total += div\n",
    "    return (-total/N).T"
   ]
  },
  {
   "cell_type": "code",
   "execution_count": 309,
   "id": "b3836458",
   "metadata": {},
   "outputs": [],
   "source": [
    "def logistic_regression(X,Y,w0,T,eta):\n",
    "    wt = w0\n",
    "    for t in tqdm(range(1,T+1)):\n",
    "        gt = gradient(X,Y,wt)\n",
    "        vt = -gt\n",
    "        wt = wt + eta*vt\n",
    "\n",
    "    return wt    "
   ]
  },
  {
   "cell_type": "code",
   "execution_count": 21,
   "id": "d428674a",
   "metadata": {},
   "outputs": [],
   "source": [
    "def error(X,y,w):\n",
    "    N = len(X)\n",
    "    d = len(w)\n",
    "    total = 0\n",
    "    for n in range(0,N):\n",
    "        exp = -((y[n]*w.T*X[n].T)[0,0])\n",
    "        total += np.math.log(1+ np.math.e**exp)\n",
    "    return (total/N)"
   ]
  },
  {
   "cell_type": "code",
   "execution_count": 298,
   "id": "dc12a155",
   "metadata": {},
   "outputs": [],
   "source": [
    "w0 = np.matrix(np.ones((x_train.shape[1],1)))"
   ]
  },
  {
   "cell_type": "code",
   "execution_count": 344,
   "id": "ca2f1261",
   "metadata": {},
   "outputs": [
    {
     "data": {
      "application/vnd.jupyter.widget-view+json": {
       "model_id": "ea7c317cc09e4659b1a24e6adc2b2fee",
       "version_major": 2,
       "version_minor": 0
      },
      "text/plain": [
       "  0%|          | 0/5000 [00:00<?, ?it/s]"
      ]
     },
     "metadata": {},
     "output_type": "display_data"
    }
   ],
   "source": [
    "w_log = logistic_regression(x_train,y_train,w0,5000,.1)"
   ]
  },
  {
   "cell_type": "code",
   "execution_count": 345,
   "id": "8eac79ca",
   "metadata": {},
   "outputs": [
    {
     "name": "stdout",
     "output_type": "stream",
     "text": [
      "(10000, 3)\n"
     ]
    },
    {
     "data": {
      "image/png": "[encoded data removed]",
      "text/plain": [
       "<Figure size 432x288 with 1 Axes>"
      ]
     },
     "metadata": {
      "needs_background": "light"
     },
     "output_type": "display_data"
    }
   ],
   "source": [
    "graphBoundary(x_train,y_train,w_log)"
   ]
  },
  {
   "cell_type": "code",
   "execution_count": 346,
   "id": "65eca0fd",
   "metadata": {},
   "outputs": [
    {
     "data": {
      "text/plain": [
       "0.1849592698802135"
      ]
     },
     "execution_count": 346,
     "metadata": {},
     "output_type": "execute_result"
    }
   ],
   "source": [
    "error(x_test, y_test, w_log)"
   ]
  },
  {
   "cell_type": "code",
   "execution_count": 349,
   "id": "7cf67a00",
   "metadata": {},
   "outputs": [
    {
     "data": {
      "text/plain": [
       "array([[ 9,  4],\n",
       "       [ 3, 88]], dtype=int64)"
      ]
     },
     "execution_count": 349,
     "metadata": {},
     "output_type": "execute_result"
    }
   ],
   "source": [
    "yhat = classify(x_test, w_log)\n",
    "metrics.confusion_matrix(y_test, yhat)"
   ]
  },
  {
   "cell_type": "markdown",
   "id": "596c63af",
   "metadata": {},
   "source": [
    "## Task 4"
   ]
  },
  {
   "cell_type": "markdown",
   "id": "a90005b9",
   "metadata": {},
   "source": [
    "### Variable Learning Rate"
   ]
  },
  {
   "cell_type": "code",
   "execution_count": 336,
   "id": "78224aca",
   "metadata": {},
   "outputs": [],
   "source": [
    "def VR_logistic_regression(X,Y,w0,T,eta, alpha, beta):\n",
    "    wt = w0\n",
    "    e1 = error(X,Y,wt)\n",
    "    etas = np.empty(T)\n",
    "    for t in tqdm(range(1,T+1)):\n",
    "        gt = gradient(X,Y,wt)\n",
    "        vt = -gt\n",
    "        wt = wt + eta*vt\n",
    "        e2 = error(X,Y,wt)\n",
    "        if e2 < e1:\n",
    "            eta *= alpha\n",
    "        elif e2 > e1:\n",
    "            wt = wt - eta*vt\n",
    "            eta *= beta\n",
    "        etas[t-1] = eta\n",
    "        e1 = e2\n",
    "    return wt, etas"
   ]
  },
  {
   "cell_type": "code",
   "execution_count": 337,
   "id": "fe23a804",
   "metadata": {},
   "outputs": [
    {
     "data": {
      "application/vnd.jupyter.widget-view+json": {
       "model_id": "263fe5addfe8409ba46df02400d15428",
       "version_major": 2,
       "version_minor": 0
      },
      "text/plain": [
       "  0%|          | 0/1000 [00:00<?, ?it/s]"
      ]
     },
     "metadata": {},
     "output_type": "display_data"
    }
   ],
   "source": [
    "w0 = np.matrix(np.ones((x_train.shape[1],1)))\n",
    "w_log_vr, eta = VR_logistic_regression(x_train,y_train, w0,1000,.1, 1.1,.6)"
   ]
  },
  {
   "cell_type": "code",
   "execution_count": 338,
   "id": "b9019da0",
   "metadata": {},
   "outputs": [
    {
     "data": {
      "text/plain": [
       "[<matplotlib.lines.Line2D at 0x1cb4f2ffe20>]"
      ]
     },
     "execution_count": 338,
     "metadata": {},
     "output_type": "execute_result"
    },
    {
     "data": {
      "image/png": "[encoded data removed]",
      "text/plain": [
       "<Figure size 432x288 with 1 Axes>"
      ]
     },
     "metadata": {
      "needs_background": "light"
     },
     "output_type": "display_data"
    }
   ],
   "source": [
    "plt.plot(eta)"
   ]
  },
  {
   "cell_type": "code",
   "execution_count": 347,
   "id": "68a825b8",
   "metadata": {},
   "outputs": [
    {
     "name": "stdout",
     "output_type": "stream",
     "text": [
      "(10000, 3)\n"
     ]
    },
    {
     "data": {
      "image/png": "[encoded data removed]",
      "text/plain": [
       "<Figure size 432x288 with 1 Axes>"
      ]
     },
     "metadata": {
      "needs_background": "light"
     },
     "output_type": "display_data"
    }
   ],
   "source": [
    "graphBoundary(x_train,y_train,w_log_vr)"
   ]
  },
  {
   "cell_type": "code",
   "execution_count": 340,
   "id": "c360f523",
   "metadata": {},
   "outputs": [
    {
     "data": {
      "text/plain": [
       "0.13636402352585766"
      ]
     },
     "execution_count": 340,
     "metadata": {},
     "output_type": "execute_result"
    }
   ],
   "source": [
    "error(x_test, y_test, w_log_vr)"
   ]
  },
  {
   "cell_type": "code",
   "execution_count": 348,
   "id": "d016ad19",
   "metadata": {},
   "outputs": [
    {
     "data": {
      "text/plain": [
       "array([[10,  3],\n",
       "       [ 5, 86]], dtype=int64)"
      ]
     },
     "execution_count": 348,
     "metadata": {},
     "output_type": "execute_result"
    }
   ],
   "source": [
    "yhat = classify(x_test, w_log_vr)\n",
    "metrics.confusion_matrix(y_test, yhat)"
   ]
  },
  {
   "cell_type": "markdown",
   "id": "404dcb14",
   "metadata": {},
   "source": [
    "Using variable learning rate gradient descent allows our model to become more precise without sacrificing run time. We achieved a better error meassure with 1/5 of the epochs."
   ]
  },
  {
   "cell_type": "markdown",
   "id": "f2e6f7c5",
   "metadata": {},
   "source": [
    "### Transforming the data"
   ]
  },
  {
   "cell_type": "code",
   "execution_count": 229,
   "id": "f3b2b2f4",
   "metadata": {},
   "outputs": [],
   "source": [
    "def transform(X):\n",
    "    x0 = X[:,0]\n",
    "    x1 = X[:,1]\n",
    "    x2 = X[:,2]\n",
    "    x1x1 = np.multiply(x1,x1)\n",
    "    x2x2 = np.multiply(x2,x2)\n",
    "    x1x2 = np.multiply(x1,x2)\n",
    "\n",
    "    return np.concatenate([x0,x1,x2,x1x1,x2x2,x1x2], axis=1)"
   ]
  },
  {
   "cell_type": "code",
   "execution_count": 355,
   "id": "7a762b45",
   "metadata": {},
   "outputs": [],
   "source": [
    "x_train_phi = transform(x_train)\n",
    "x_test_phi = transform(x_test)"
   ]
  },
  {
   "cell_type": "code",
   "execution_count": 356,
   "id": "b92080d7",
   "metadata": {},
   "outputs": [
    {
     "data": {
      "application/vnd.jupyter.widget-view+json": {
       "model_id": "f239f4a699294df49b18257f521a047c",
       "version_major": 2,
       "version_minor": 0
      },
      "text/plain": [
       "  0%|          | 0/5000 [00:00<?, ?it/s]"
      ]
     },
     "metadata": {},
     "output_type": "display_data"
    }
   ],
   "source": [
    "w0 = np.matrix(np.zeros((x_train_phi.shape[1],1)))\n",
    "w_log_phi = logistic_regression(x_train_phi, y_train, w0, 5000, .1)"
   ]
  },
  {
   "cell_type": "code",
   "execution_count": 357,
   "id": "3dd8aa15",
   "metadata": {},
   "outputs": [
    {
     "name": "stdout",
     "output_type": "stream",
     "text": [
      "(10000, 3)\n"
     ]
    },
    {
     "data": {
      "image/png": "[encoded data removed]",
      "text/plain": [
       "<Figure size 432x288 with 1 Axes>"
      ]
     },
     "metadata": {
      "needs_background": "light"
     },
     "output_type": "display_data"
    }
   ],
   "source": [
    "graphBoundary(x_train, y_train, w_log_phi, phi=transform)"
   ]
  },
  {
   "cell_type": "code",
   "execution_count": 358,
   "id": "8bd39c4d",
   "metadata": {},
   "outputs": [
    {
     "data": {
      "text/plain": [
       "0.09773194431270138"
      ]
     },
     "execution_count": 358,
     "metadata": {},
     "output_type": "execute_result"
    }
   ],
   "source": [
    "error(x_test_phi, y_test, w_log_phi )"
   ]
  },
  {
   "cell_type": "code",
   "execution_count": 353,
   "id": "4cb764c0",
   "metadata": {},
   "outputs": [
    {
     "data": {
      "text/plain": [
       "array([[10,  3],\n",
       "       [ 1, 90]], dtype=int64)"
      ]
     },
     "execution_count": 353,
     "metadata": {},
     "output_type": "execute_result"
    }
   ],
   "source": [
    "yhat = classify(transform(x_test), w_log_phi)\n",
    "metrics.confusion_matrix(y_test, yhat)"
   ]
  },
  {
   "cell_type": "markdown",
   "id": "1cd360ac",
   "metadata": {},
   "source": [
    "Using a data transform can be useful for logistic regression if the target function isnt perfectly linear as is the case here. Our transformation from 2 dimensions to 5 dimensions greatly increased our results."
   ]
  }
 ],
 "metadata": {
  "kernelspec": {
   "display_name": "Python 3",
   "language": "python",
   "name": "python3"
  },
  "language_info": {
   "codemirror_mode": {
    "name": "ipython",
    "version": 3
   },
   "file_extension": ".py",
   "mimetype": "text/x-python",
   "name": "python",
   "nbconvert_exporter": "python",
   "pygments_lexer": "ipython3",
   "version": "3.8.8"
  }
 },
 "nbformat": 4,
 "nbformat_minor": 5
}
